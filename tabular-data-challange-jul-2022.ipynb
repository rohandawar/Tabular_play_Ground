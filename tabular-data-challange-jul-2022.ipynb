{
 "cells": [
  {
   "cell_type": "code",
   "execution_count": 1,
   "id": "7bc66a4b",
   "metadata": {
    "execution": {
     "iopub.execute_input": "2022-07-06T06:53:49.576390Z",
     "iopub.status.busy": "2022-07-06T06:53:49.575951Z",
     "iopub.status.idle": "2022-07-06T06:53:51.068879Z",
     "shell.execute_reply": "2022-07-06T06:53:51.067755Z"
    },
    "papermill": {
     "duration": 1.511553,
     "end_time": "2022-07-06T06:53:51.071927",
     "exception": false,
     "start_time": "2022-07-06T06:53:49.560374",
     "status": "completed"
    },
    "tags": []
   },
   "outputs": [],
   "source": [
    "# import the Libs\n",
    "import pandas as pd\n",
    "import numpy as np\n",
    "\n",
    "\n",
    "# Plotting\n",
    "import matplotlib.pyplot as plt\n",
    "import seaborn as sns\n",
    "\n",
    "#sklearn\n",
    "from sklearn.cluster import KMeans\n",
    "\n",
    "\n",
    "# Settings.\n",
    "pd.set_option('display.max_columns', 300)\n",
    "pd.set_option('display.max_rows', 300)\n"
   ]
  },
  {
   "cell_type": "code",
   "execution_count": 2,
   "id": "7a00103c",
   "metadata": {
    "execution": {
     "iopub.execute_input": "2022-07-06T06:53:51.100170Z",
     "iopub.status.busy": "2022-07-06T06:53:51.099785Z",
     "iopub.status.idle": "2022-07-06T06:53:52.674323Z",
     "shell.execute_reply": "2022-07-06T06:53:52.673053Z"
    },
    "papermill": {
     "duration": 1.591842,
     "end_time": "2022-07-06T06:53:52.677078",
     "exception": false,
     "start_time": "2022-07-06T06:53:51.085236",
     "status": "completed"
    },
    "tags": []
   },
   "outputs": [
    {
     "data": {
      "text/plain": [
       "((98000, 30), (98000, 2))"
      ]
     },
     "execution_count": 2,
     "metadata": {},
     "output_type": "execute_result"
    }
   ],
   "source": [
    "traindf = pd.read_csv('/kaggle/input/tabular-playground-series-jul-2022/data.csv')\n",
    "subdf = pd.read_csv('/kaggle/input/tabular-playground-series-jul-2022/sample_submission.csv')\n",
    "traindf.shape, subdf.shape"
   ]
  },
  {
   "cell_type": "markdown",
   "id": "540ed5a0",
   "metadata": {
    "papermill": {
     "duration": 0.012205,
     "end_time": "2022-07-06T06:53:52.702022",
     "exception": false,
     "start_time": "2022-07-06T06:53:52.689817",
     "status": "completed"
    },
    "tags": []
   },
   "source": [
    "### Data Investigation"
   ]
  },
  {
   "cell_type": "code",
   "execution_count": 3,
   "id": "790cbd64",
   "metadata": {
    "execution": {
     "iopub.execute_input": "2022-07-06T06:53:52.729272Z",
     "iopub.status.busy": "2022-07-06T06:53:52.728140Z",
     "iopub.status.idle": "2022-07-06T06:53:52.766628Z",
     "shell.execute_reply": "2022-07-06T06:53:52.765321Z"
    },
    "papermill": {
     "duration": 0.054665,
     "end_time": "2022-07-06T06:53:52.769146",
     "exception": false,
     "start_time": "2022-07-06T06:53:52.714481",
     "status": "completed"
    },
    "tags": []
   },
   "outputs": [
    {
     "data": {
      "text/html": [
       "<div>\n",
       "<style scoped>\n",
       "    .dataframe tbody tr th:only-of-type {\n",
       "        vertical-align: middle;\n",
       "    }\n",
       "\n",
       "    .dataframe tbody tr th {\n",
       "        vertical-align: top;\n",
       "    }\n",
       "\n",
       "    .dataframe thead th {\n",
       "        text-align: right;\n",
       "    }\n",
       "</style>\n",
       "<table border=\"1\" class=\"dataframe\">\n",
       "  <thead>\n",
       "    <tr style=\"text-align: right;\">\n",
       "      <th></th>\n",
       "      <th>id</th>\n",
       "      <th>f_00</th>\n",
       "      <th>f_01</th>\n",
       "      <th>f_02</th>\n",
       "      <th>f_03</th>\n",
       "      <th>f_04</th>\n",
       "      <th>f_05</th>\n",
       "      <th>f_06</th>\n",
       "      <th>f_07</th>\n",
       "      <th>f_08</th>\n",
       "      <th>f_09</th>\n",
       "      <th>f_10</th>\n",
       "      <th>f_11</th>\n",
       "      <th>f_12</th>\n",
       "      <th>f_13</th>\n",
       "      <th>f_14</th>\n",
       "      <th>f_15</th>\n",
       "      <th>f_16</th>\n",
       "      <th>f_17</th>\n",
       "      <th>f_18</th>\n",
       "      <th>f_19</th>\n",
       "      <th>f_20</th>\n",
       "      <th>f_21</th>\n",
       "      <th>f_22</th>\n",
       "      <th>f_23</th>\n",
       "      <th>f_24</th>\n",
       "      <th>f_25</th>\n",
       "      <th>f_26</th>\n",
       "      <th>f_27</th>\n",
       "      <th>f_28</th>\n",
       "    </tr>\n",
       "  </thead>\n",
       "  <tbody>\n",
       "    <tr>\n",
       "      <th>0</th>\n",
       "      <td>0</td>\n",
       "      <td>-0.389420</td>\n",
       "      <td>-0.912791</td>\n",
       "      <td>0.648951</td>\n",
       "      <td>0.589045</td>\n",
       "      <td>-0.830817</td>\n",
       "      <td>0.733624</td>\n",
       "      <td>2.258560</td>\n",
       "      <td>2</td>\n",
       "      <td>13</td>\n",
       "      <td>14</td>\n",
       "      <td>5</td>\n",
       "      <td>13</td>\n",
       "      <td>6</td>\n",
       "      <td>6</td>\n",
       "      <td>-0.469819</td>\n",
       "      <td>0.358126</td>\n",
       "      <td>1.068105</td>\n",
       "      <td>-0.559650</td>\n",
       "      <td>-0.366905</td>\n",
       "      <td>-0.478412</td>\n",
       "      <td>-0.757002</td>\n",
       "      <td>-0.763635</td>\n",
       "      <td>-1.090369</td>\n",
       "      <td>1.142641</td>\n",
       "      <td>-0.884274</td>\n",
       "      <td>1.137896</td>\n",
       "      <td>1.309073</td>\n",
       "      <td>1.463002</td>\n",
       "      <td>0.813527</td>\n",
       "    </tr>\n",
       "    <tr>\n",
       "      <th>1</th>\n",
       "      <td>1</td>\n",
       "      <td>-0.689249</td>\n",
       "      <td>-0.453954</td>\n",
       "      <td>0.654175</td>\n",
       "      <td>0.995248</td>\n",
       "      <td>-1.653020</td>\n",
       "      <td>0.863810</td>\n",
       "      <td>-0.090651</td>\n",
       "      <td>2</td>\n",
       "      <td>3</td>\n",
       "      <td>6</td>\n",
       "      <td>4</td>\n",
       "      <td>6</td>\n",
       "      <td>16</td>\n",
       "      <td>9</td>\n",
       "      <td>0.591035</td>\n",
       "      <td>-0.396915</td>\n",
       "      <td>0.145834</td>\n",
       "      <td>-0.030798</td>\n",
       "      <td>0.471167</td>\n",
       "      <td>-0.428791</td>\n",
       "      <td>-0.089908</td>\n",
       "      <td>-1.784204</td>\n",
       "      <td>-0.839474</td>\n",
       "      <td>0.459685</td>\n",
       "      <td>1.759412</td>\n",
       "      <td>-0.275422</td>\n",
       "      <td>-0.852168</td>\n",
       "      <td>0.562457</td>\n",
       "      <td>-2.680541</td>\n",
       "    </tr>\n",
       "    <tr>\n",
       "      <th>2</th>\n",
       "      <td>2</td>\n",
       "      <td>0.809079</td>\n",
       "      <td>0.324568</td>\n",
       "      <td>-1.170602</td>\n",
       "      <td>-0.624491</td>\n",
       "      <td>0.105448</td>\n",
       "      <td>0.783948</td>\n",
       "      <td>1.988301</td>\n",
       "      <td>5</td>\n",
       "      <td>11</td>\n",
       "      <td>5</td>\n",
       "      <td>8</td>\n",
       "      <td>9</td>\n",
       "      <td>3</td>\n",
       "      <td>11</td>\n",
       "      <td>-0.679875</td>\n",
       "      <td>0.469326</td>\n",
       "      <td>0.349843</td>\n",
       "      <td>-0.288042</td>\n",
       "      <td>0.291470</td>\n",
       "      <td>-0.413534</td>\n",
       "      <td>-1.602377</td>\n",
       "      <td>1.190984</td>\n",
       "      <td>3.267116</td>\n",
       "      <td>-0.088322</td>\n",
       "      <td>-2.168635</td>\n",
       "      <td>-0.974989</td>\n",
       "      <td>1.335763</td>\n",
       "      <td>-1.110655</td>\n",
       "      <td>-3.630723</td>\n",
       "    </tr>\n",
       "    <tr>\n",
       "      <th>3</th>\n",
       "      <td>3</td>\n",
       "      <td>-0.500923</td>\n",
       "      <td>0.229049</td>\n",
       "      <td>0.264109</td>\n",
       "      <td>0.231520</td>\n",
       "      <td>0.415012</td>\n",
       "      <td>-1.221269</td>\n",
       "      <td>0.138850</td>\n",
       "      <td>6</td>\n",
       "      <td>2</td>\n",
       "      <td>13</td>\n",
       "      <td>8</td>\n",
       "      <td>9</td>\n",
       "      <td>6</td>\n",
       "      <td>4</td>\n",
       "      <td>-0.389456</td>\n",
       "      <td>0.626762</td>\n",
       "      <td>-1.074543</td>\n",
       "      <td>-1.521753</td>\n",
       "      <td>-1.150806</td>\n",
       "      <td>0.619283</td>\n",
       "      <td>1.287801</td>\n",
       "      <td>0.532837</td>\n",
       "      <td>1.036631</td>\n",
       "      <td>-2.041828</td>\n",
       "      <td>1.440490</td>\n",
       "      <td>-1.900191</td>\n",
       "      <td>-0.630771</td>\n",
       "      <td>-0.050641</td>\n",
       "      <td>0.238333</td>\n",
       "    </tr>\n",
       "    <tr>\n",
       "      <th>4</th>\n",
       "      <td>4</td>\n",
       "      <td>-0.671268</td>\n",
       "      <td>-1.039533</td>\n",
       "      <td>-0.270155</td>\n",
       "      <td>-1.830264</td>\n",
       "      <td>-0.290108</td>\n",
       "      <td>-1.852809</td>\n",
       "      <td>0.781898</td>\n",
       "      <td>8</td>\n",
       "      <td>7</td>\n",
       "      <td>5</td>\n",
       "      <td>3</td>\n",
       "      <td>1</td>\n",
       "      <td>13</td>\n",
       "      <td>11</td>\n",
       "      <td>-0.120743</td>\n",
       "      <td>-0.615578</td>\n",
       "      <td>-1.064359</td>\n",
       "      <td>0.444142</td>\n",
       "      <td>0.428327</td>\n",
       "      <td>-1.628830</td>\n",
       "      <td>-0.434948</td>\n",
       "      <td>0.322505</td>\n",
       "      <td>0.284326</td>\n",
       "      <td>-2.438365</td>\n",
       "      <td>1.473930</td>\n",
       "      <td>-1.044684</td>\n",
       "      <td>1.602686</td>\n",
       "      <td>-0.405263</td>\n",
       "      <td>-1.987263</td>\n",
       "    </tr>\n",
       "  </tbody>\n",
       "</table>\n",
       "</div>"
      ],
      "text/plain": [
       "   id      f_00      f_01      f_02      f_03      f_04      f_05      f_06  \\\n",
       "0   0 -0.389420 -0.912791  0.648951  0.589045 -0.830817  0.733624  2.258560   \n",
       "1   1 -0.689249 -0.453954  0.654175  0.995248 -1.653020  0.863810 -0.090651   \n",
       "2   2  0.809079  0.324568 -1.170602 -0.624491  0.105448  0.783948  1.988301   \n",
       "3   3 -0.500923  0.229049  0.264109  0.231520  0.415012 -1.221269  0.138850   \n",
       "4   4 -0.671268 -1.039533 -0.270155 -1.830264 -0.290108 -1.852809  0.781898   \n",
       "\n",
       "   f_07  f_08  f_09  f_10  f_11  f_12  f_13      f_14      f_15      f_16  \\\n",
       "0     2    13    14     5    13     6     6 -0.469819  0.358126  1.068105   \n",
       "1     2     3     6     4     6    16     9  0.591035 -0.396915  0.145834   \n",
       "2     5    11     5     8     9     3    11 -0.679875  0.469326  0.349843   \n",
       "3     6     2    13     8     9     6     4 -0.389456  0.626762 -1.074543   \n",
       "4     8     7     5     3     1    13    11 -0.120743 -0.615578 -1.064359   \n",
       "\n",
       "       f_17      f_18      f_19      f_20      f_21      f_22      f_23  \\\n",
       "0 -0.559650 -0.366905 -0.478412 -0.757002 -0.763635 -1.090369  1.142641   \n",
       "1 -0.030798  0.471167 -0.428791 -0.089908 -1.784204 -0.839474  0.459685   \n",
       "2 -0.288042  0.291470 -0.413534 -1.602377  1.190984  3.267116 -0.088322   \n",
       "3 -1.521753 -1.150806  0.619283  1.287801  0.532837  1.036631 -2.041828   \n",
       "4  0.444142  0.428327 -1.628830 -0.434948  0.322505  0.284326 -2.438365   \n",
       "\n",
       "       f_24      f_25      f_26      f_27      f_28  \n",
       "0 -0.884274  1.137896  1.309073  1.463002  0.813527  \n",
       "1  1.759412 -0.275422 -0.852168  0.562457 -2.680541  \n",
       "2 -2.168635 -0.974989  1.335763 -1.110655 -3.630723  \n",
       "3  1.440490 -1.900191 -0.630771 -0.050641  0.238333  \n",
       "4  1.473930 -1.044684  1.602686 -0.405263 -1.987263  "
      ]
     },
     "execution_count": 3,
     "metadata": {},
     "output_type": "execute_result"
    }
   ],
   "source": [
    "traindf.head()"
   ]
  },
  {
   "cell_type": "code",
   "execution_count": 4,
   "id": "b016468b",
   "metadata": {
    "execution": {
     "iopub.execute_input": "2022-07-06T06:53:52.797696Z",
     "iopub.status.busy": "2022-07-06T06:53:52.796935Z",
     "iopub.status.idle": "2022-07-06T06:53:52.808212Z",
     "shell.execute_reply": "2022-07-06T06:53:52.806818Z"
    },
    "papermill": {
     "duration": 0.028588,
     "end_time": "2022-07-06T06:53:52.810792",
     "exception": false,
     "start_time": "2022-07-06T06:53:52.782204",
     "status": "completed"
    },
    "tags": []
   },
   "outputs": [
    {
     "data": {
      "text/html": [
       "<div>\n",
       "<style scoped>\n",
       "    .dataframe tbody tr th:only-of-type {\n",
       "        vertical-align: middle;\n",
       "    }\n",
       "\n",
       "    .dataframe tbody tr th {\n",
       "        vertical-align: top;\n",
       "    }\n",
       "\n",
       "    .dataframe thead th {\n",
       "        text-align: right;\n",
       "    }\n",
       "</style>\n",
       "<table border=\"1\" class=\"dataframe\">\n",
       "  <thead>\n",
       "    <tr style=\"text-align: right;\">\n",
       "      <th></th>\n",
       "      <th>Id</th>\n",
       "      <th>Predicted</th>\n",
       "    </tr>\n",
       "  </thead>\n",
       "  <tbody>\n",
       "    <tr>\n",
       "      <th>0</th>\n",
       "      <td>0</td>\n",
       "      <td>0</td>\n",
       "    </tr>\n",
       "    <tr>\n",
       "      <th>1</th>\n",
       "      <td>1</td>\n",
       "      <td>0</td>\n",
       "    </tr>\n",
       "    <tr>\n",
       "      <th>2</th>\n",
       "      <td>2</td>\n",
       "      <td>0</td>\n",
       "    </tr>\n",
       "    <tr>\n",
       "      <th>3</th>\n",
       "      <td>3</td>\n",
       "      <td>0</td>\n",
       "    </tr>\n",
       "    <tr>\n",
       "      <th>4</th>\n",
       "      <td>4</td>\n",
       "      <td>0</td>\n",
       "    </tr>\n",
       "  </tbody>\n",
       "</table>\n",
       "</div>"
      ],
      "text/plain": [
       "   Id  Predicted\n",
       "0   0          0\n",
       "1   1          0\n",
       "2   2          0\n",
       "3   3          0\n",
       "4   4          0"
      ]
     },
     "execution_count": 4,
     "metadata": {},
     "output_type": "execute_result"
    }
   ],
   "source": [
    "subdf.head()"
   ]
  },
  {
   "cell_type": "code",
   "execution_count": 5,
   "id": "aa3ae159",
   "metadata": {
    "execution": {
     "iopub.execute_input": "2022-07-06T06:53:52.838683Z",
     "iopub.status.busy": "2022-07-06T06:53:52.838252Z",
     "iopub.status.idle": "2022-07-06T06:53:52.845248Z",
     "shell.execute_reply": "2022-07-06T06:53:52.843977Z"
    },
    "papermill": {
     "duration": 0.023847,
     "end_time": "2022-07-06T06:53:52.847646",
     "exception": false,
     "start_time": "2022-07-06T06:53:52.823799",
     "status": "completed"
    },
    "tags": []
   },
   "outputs": [],
   "source": [
    "# Function Defination\n",
    "def data_investigation(df):\n",
    "    print('Nulls')\n",
    "    print(df.isnull().sum())\n",
    "    print('*' * 50)\n",
    "    print('Dtypes')\n",
    "    print(df.dtypes)\n",
    "    print('*' * 50)\n",
    "\n",
    "def plotting(df, feature):\n",
    "    sns.displot(data=df, x=feature)\n",
    "    plt.show()\n",
    "    \n",
    "    "
   ]
  },
  {
   "cell_type": "code",
   "execution_count": 6,
   "id": "c9851138",
   "metadata": {
    "execution": {
     "iopub.execute_input": "2022-07-06T06:53:52.876086Z",
     "iopub.status.busy": "2022-07-06T06:53:52.875275Z",
     "iopub.status.idle": "2022-07-06T06:53:52.892375Z",
     "shell.execute_reply": "2022-07-06T06:53:52.890219Z"
    },
    "papermill": {
     "duration": 0.034564,
     "end_time": "2022-07-06T06:53:52.895322",
     "exception": false,
     "start_time": "2022-07-06T06:53:52.860758",
     "status": "completed"
    },
    "tags": []
   },
   "outputs": [
    {
     "name": "stdout",
     "output_type": "stream",
     "text": [
      "Nulls\n",
      "id      0\n",
      "f_00    0\n",
      "f_01    0\n",
      "f_02    0\n",
      "f_03    0\n",
      "f_04    0\n",
      "f_05    0\n",
      "f_06    0\n",
      "f_07    0\n",
      "f_08    0\n",
      "f_09    0\n",
      "f_10    0\n",
      "f_11    0\n",
      "f_12    0\n",
      "f_13    0\n",
      "f_14    0\n",
      "f_15    0\n",
      "f_16    0\n",
      "f_17    0\n",
      "f_18    0\n",
      "f_19    0\n",
      "f_20    0\n",
      "f_21    0\n",
      "f_22    0\n",
      "f_23    0\n",
      "f_24    0\n",
      "f_25    0\n",
      "f_26    0\n",
      "f_27    0\n",
      "f_28    0\n",
      "dtype: int64\n",
      "**************************************************\n",
      "Dtypes\n",
      "id        int64\n",
      "f_00    float64\n",
      "f_01    float64\n",
      "f_02    float64\n",
      "f_03    float64\n",
      "f_04    float64\n",
      "f_05    float64\n",
      "f_06    float64\n",
      "f_07      int64\n",
      "f_08      int64\n",
      "f_09      int64\n",
      "f_10      int64\n",
      "f_11      int64\n",
      "f_12      int64\n",
      "f_13      int64\n",
      "f_14    float64\n",
      "f_15    float64\n",
      "f_16    float64\n",
      "f_17    float64\n",
      "f_18    float64\n",
      "f_19    float64\n",
      "f_20    float64\n",
      "f_21    float64\n",
      "f_22    float64\n",
      "f_23    float64\n",
      "f_24    float64\n",
      "f_25    float64\n",
      "f_26    float64\n",
      "f_27    float64\n",
      "f_28    float64\n",
      "dtype: object\n",
      "**************************************************\n"
     ]
    }
   ],
   "source": [
    "data_investigation(traindf)"
   ]
  },
  {
   "cell_type": "code",
   "execution_count": 7,
   "id": "9e2b7a64",
   "metadata": {
    "execution": {
     "iopub.execute_input": "2022-07-06T06:53:52.924273Z",
     "iopub.status.busy": "2022-07-06T06:53:52.923106Z",
     "iopub.status.idle": "2022-07-06T06:53:53.658057Z",
     "shell.execute_reply": "2022-07-06T06:53:53.656885Z"
    },
    "papermill": {
     "duration": 0.752482,
     "end_time": "2022-07-06T06:53:53.660949",
     "exception": false,
     "start_time": "2022-07-06T06:53:52.908467",
     "status": "completed"
    },
    "tags": []
   },
   "outputs": [
    {
     "data": {
      "image/png": "[encoded data removed]",
      "text/plain": [
       "<Figure size 360x360 with 1 Axes>"
      ]
     },
     "metadata": {
      "needs_background": "light"
     },
     "output_type": "display_data"
    },
    {
     "data": {
      "text/plain": [
       "dtype('float64')"
      ]
     },
     "execution_count": 7,
     "metadata": {},
     "output_type": "execute_result"
    }
   ],
   "source": [
    "sns.displot(data=traindf, x='f_00')\n",
    "plt.show()\n",
    "traindf['f_00'].dtype\n"
   ]
  },
  {
   "cell_type": "code",
   "execution_count": 8,
   "id": "66564681",
   "metadata": {
    "execution": {
     "iopub.execute_input": "2022-07-06T06:53:53.690147Z",
     "iopub.status.busy": "2022-07-06T06:53:53.689782Z",
     "iopub.status.idle": "2022-07-06T06:53:53.704703Z",
     "shell.execute_reply": "2022-07-06T06:53:53.703543Z"
    },
    "papermill": {
     "duration": 0.032721,
     "end_time": "2022-07-06T06:53:53.707225",
     "exception": false,
     "start_time": "2022-07-06T06:53:53.674504",
     "status": "completed"
    },
    "tags": []
   },
   "outputs": [
    {
     "data": {
      "text/plain": [
       "id      0\n",
       "f_00    0\n",
       "f_01    0\n",
       "f_02    0\n",
       "f_03    0\n",
       "f_04    0\n",
       "f_05    0\n",
       "f_06    0\n",
       "f_07    0\n",
       "f_08    0\n",
       "f_09    0\n",
       "f_10    0\n",
       "f_11    0\n",
       "f_12    0\n",
       "f_13    0\n",
       "f_14    0\n",
       "f_15    0\n",
       "f_16    0\n",
       "f_17    0\n",
       "f_18    0\n",
       "f_19    0\n",
       "f_20    0\n",
       "f_21    0\n",
       "f_22    0\n",
       "f_23    0\n",
       "f_24    0\n",
       "f_25    0\n",
       "f_26    0\n",
       "f_27    0\n",
       "f_28    0\n",
       "dtype: int64"
      ]
     },
     "execution_count": 8,
     "metadata": {},
     "output_type": "execute_result"
    }
   ],
   "source": [
    "traindf.isnull().sum()"
   ]
  },
  {
   "cell_type": "code",
   "execution_count": 9,
   "id": "f980fdc4",
   "metadata": {
    "execution": {
     "iopub.execute_input": "2022-07-06T06:53:53.736588Z",
     "iopub.status.busy": "2022-07-06T06:53:53.736153Z",
     "iopub.status.idle": "2022-07-06T06:53:54.424429Z",
     "shell.execute_reply": "2022-07-06T06:53:54.423100Z"
    },
    "papermill": {
     "duration": 0.706624,
     "end_time": "2022-07-06T06:53:54.427488",
     "exception": false,
     "start_time": "2022-07-06T06:53:53.720864",
     "status": "completed"
    },
    "tags": []
   },
   "outputs": [
    {
     "data": {
      "image/png": "[encoded data removed]",
      "text/plain": [
       "<Figure size 360x360 with 1 Axes>"
      ]
     },
     "metadata": {
      "needs_background": "light"
     },
     "output_type": "display_data"
    }
   ],
   "source": [
    "plotting(traindf, 'f_00')"
   ]
  },
  {
   "cell_type": "code",
   "execution_count": 10,
   "id": "dde4221d",
   "metadata": {
    "execution": {
     "iopub.execute_input": "2022-07-06T06:53:54.458905Z",
     "iopub.status.busy": "2022-07-06T06:53:54.458061Z",
     "iopub.status.idle": "2022-07-06T06:53:55.121628Z",
     "shell.execute_reply": "2022-07-06T06:53:55.120388Z"
    },
    "papermill": {
     "duration": 0.682312,
     "end_time": "2022-07-06T06:53:55.124236",
     "exception": false,
     "start_time": "2022-07-06T06:53:54.441924",
     "status": "completed"
    },
    "tags": []
   },
   "outputs": [
    {
     "data": {
      "image/png": "[encoded data removed]",
      "text/plain": [
       "<Figure size 360x360 with 1 Axes>"
      ]
     },
     "metadata": {
      "needs_background": "light"
     },
     "output_type": "display_data"
    }
   ],
   "source": [
    "plotting(traindf, 'f_01')"
   ]
  },
  {
   "cell_type": "code",
   "execution_count": 11,
   "id": "a16ae526",
   "metadata": {
    "execution": {
     "iopub.execute_input": "2022-07-06T06:53:55.156283Z",
     "iopub.status.busy": "2022-07-06T06:53:55.155890Z",
     "iopub.status.idle": "2022-07-06T06:53:55.860692Z",
     "shell.execute_reply": "2022-07-06T06:53:55.859299Z"
    },
    "papermill": {
     "duration": 0.723901,
     "end_time": "2022-07-06T06:53:55.863155",
     "exception": false,
     "start_time": "2022-07-06T06:53:55.139254",
     "status": "completed"
    },
    "tags": []
   },
   "outputs": [
    {
     "data": {
      "image/png": "[encoded data removed]",
      "text/plain": [
       "<Figure size 360x360 with 1 Axes>"
      ]
     },
     "metadata": {
      "needs_background": "light"
     },
     "output_type": "display_data"
    }
   ],
   "source": [
    "plotting(traindf, 'f_02')"
   ]
  },
  {
   "cell_type": "code",
   "execution_count": 12,
   "id": "b5b7adab",
   "metadata": {
    "execution": {
     "iopub.execute_input": "2022-07-06T06:53:55.893983Z",
     "iopub.status.busy": "2022-07-06T06:53:55.893576Z",
     "iopub.status.idle": "2022-07-06T06:53:56.698917Z",
     "shell.execute_reply": "2022-07-06T06:53:56.697651Z"
    },
    "papermill": {
     "duration": 0.823841,
     "end_time": "2022-07-06T06:53:56.701432",
     "exception": false,
     "start_time": "2022-07-06T06:53:55.877591",
     "status": "completed"
    },
    "tags": []
   },
   "outputs": [
    {
     "data": {
      "image/png": "[encoded data removed]",
      "text/plain": [
       "<Figure size 360x360 with 1 Axes>"
      ]
     },
     "metadata": {
      "needs_background": "light"
     },
     "output_type": "display_data"
    }
   ],
   "source": [
    "plotting(traindf, 'f_03')"
   ]
  },
  {
   "cell_type": "code",
   "execution_count": 13,
   "id": "429668b1",
   "metadata": {
    "execution": {
     "iopub.execute_input": "2022-07-06T06:53:56.734695Z",
     "iopub.status.busy": "2022-07-06T06:53:56.734258Z",
     "iopub.status.idle": "2022-07-06T06:53:57.401446Z",
     "shell.execute_reply": "2022-07-06T06:53:57.400087Z"
    },
    "papermill": {
     "duration": 0.686414,
     "end_time": "2022-07-06T06:53:57.403824",
     "exception": false,
     "start_time": "2022-07-06T06:53:56.717410",
     "status": "completed"
    },
    "tags": []
   },
   "outputs": [
    {
     "data": {
      "image/png": "[encoded data removed]",
      "text/plain": [
       "<Figure size 360x360 with 1 Axes>"
      ]
     },
     "metadata": {
      "needs_background": "light"
     },
     "output_type": "display_data"
    }
   ],
   "source": [
    "plotting(traindf, 'f_04')"
   ]
  },
  {
   "cell_type": "code",
   "execution_count": 14,
   "id": "45b28d90",
   "metadata": {
    "execution": {
     "iopub.execute_input": "2022-07-06T06:53:57.435871Z",
     "iopub.status.busy": "2022-07-06T06:53:57.435189Z",
     "iopub.status.idle": "2022-07-06T06:53:58.120151Z",
     "shell.execute_reply": "2022-07-06T06:53:58.118748Z"
    },
    "papermill": {
     "duration": 0.704667,
     "end_time": "2022-07-06T06:53:58.123281",
     "exception": false,
     "start_time": "2022-07-06T06:53:57.418614",
     "status": "completed"
    },
    "tags": []
   },
   "outputs": [
    {
     "data": {
      "image/png": "[encoded data removed]",
      "text/plain": [
       "<Figure size 360x360 with 1 Axes>"
      ]
     },
     "metadata": {
      "needs_background": "light"
     },
     "output_type": "display_data"
    }
   ],
   "source": [
    "plotting(traindf, 'f_05')"
   ]
  },
  {
   "cell_type": "code",
   "execution_count": 15,
   "id": "741a54b1",
   "metadata": {
    "execution": {
     "iopub.execute_input": "2022-07-06T06:53:58.157454Z",
     "iopub.status.busy": "2022-07-06T06:53:58.157003Z",
     "iopub.status.idle": "2022-07-06T06:53:58.853213Z",
     "shell.execute_reply": "2022-07-06T06:53:58.851919Z"
    },
    "papermill": {
     "duration": 0.715846,
     "end_time": "2022-07-06T06:53:58.855697",
     "exception": false,
     "start_time": "2022-07-06T06:53:58.139851",
     "status": "completed"
    },
    "tags": []
   },
   "outputs": [
    {
     "data": {
      "image/png": "[encoded data removed]",
      "text/plain": [
       "<Figure size 360x360 with 1 Axes>"
      ]
     },
     "metadata": {
      "needs_background": "light"
     },
     "output_type": "display_data"
    }
   ],
   "source": [
    "plotting(traindf, 'f_06')"
   ]
  },
  {
   "cell_type": "code",
   "execution_count": 16,
   "id": "70214883",
   "metadata": {
    "execution": {
     "iopub.execute_input": "2022-07-06T06:53:58.889493Z",
     "iopub.status.busy": "2022-07-06T06:53:58.888423Z",
     "iopub.status.idle": "2022-07-06T06:53:59.571638Z",
     "shell.execute_reply": "2022-07-06T06:53:59.570261Z"
    },
    "papermill": {
     "duration": 0.702996,
     "end_time": "2022-07-06T06:53:59.574377",
     "exception": false,
     "start_time": "2022-07-06T06:53:58.871381",
     "status": "completed"
    },
    "tags": []
   },
   "outputs": [
    {
     "data": {
      "image/png": "[encoded data removed]",
      "text/plain": [
       "<Figure size 360x360 with 1 Axes>"
      ]
     },
     "metadata": {
      "needs_background": "light"
     },
     "output_type": "display_data"
    }
   ],
   "source": [
    "plotting(traindf, 'f_07')"
   ]
  },
  {
   "cell_type": "code",
   "execution_count": 17,
   "id": "1e444995",
   "metadata": {
    "execution": {
     "iopub.execute_input": "2022-07-06T06:53:59.607993Z",
     "iopub.status.busy": "2022-07-06T06:53:59.607612Z",
     "iopub.status.idle": "2022-07-06T06:54:00.259798Z",
     "shell.execute_reply": "2022-07-06T06:54:00.258781Z"
    },
    "papermill": {
     "duration": 0.671861,
     "end_time": "2022-07-06T06:54:00.262257",
     "exception": false,
     "start_time": "2022-07-06T06:53:59.590396",
     "status": "completed"
    },
    "tags": []
   },
   "outputs": [
    {
     "data": {
      "image/png": "[encoded data removed]",
      "text/plain": [
       "<Figure size 360x360 with 1 Axes>"
      ]
     },
     "metadata": {
      "needs_background": "light"
     },
     "output_type": "display_data"
    }
   ],
   "source": [
    "plotting(traindf, 'f_08')"
   ]
  },
  {
   "cell_type": "code",
   "execution_count": 18,
   "id": "ec28de0b",
   "metadata": {
    "execution": {
     "iopub.execute_input": "2022-07-06T06:54:00.299009Z",
     "iopub.status.busy": "2022-07-06T06:54:00.298023Z",
     "iopub.status.idle": "2022-07-06T06:54:01.066194Z",
     "shell.execute_reply": "2022-07-06T06:54:01.064884Z"
    },
    "papermill": {
     "duration": 0.790089,
     "end_time": "2022-07-06T06:54:01.068826",
     "exception": false,
     "start_time": "2022-07-06T06:54:00.278737",
     "status": "completed"
    },
    "tags": []
   },
   "outputs": [
    {
     "data": {
      "image/png": "[encoded data removed]",
      "text/plain": [
       "<Figure size 360x360 with 1 Axes>"
      ]
     },
     "metadata": {
      "needs_background": "light"
     },
     "output_type": "display_data"
    }
   ],
   "source": [
    "plotting(traindf, 'f_09')"
   ]
  },
  {
   "cell_type": "code",
   "execution_count": 19,
   "id": "bc34581f",
   "metadata": {
    "execution": {
     "iopub.execute_input": "2022-07-06T06:54:01.105080Z",
     "iopub.status.busy": "2022-07-06T06:54:01.104404Z",
     "iopub.status.idle": "2022-07-06T06:54:01.953803Z",
     "shell.execute_reply": "2022-07-06T06:54:01.952407Z"
    },
    "papermill": {
     "duration": 0.870352,
     "end_time": "2022-07-06T06:54:01.956229",
     "exception": false,
     "start_time": "2022-07-06T06:54:01.085877",
     "status": "completed"
    },
    "tags": []
   },
   "outputs": [
    {
     "data": {
      "image/png": "[encoded data removed]",
      "text/plain": [
       "<Figure size 360x360 with 1 Axes>"
      ]
     },
     "metadata": {
      "needs_background": "light"
     },
     "output_type": "display_data"
    }
   ],
   "source": [
    "plotting(traindf, 'f_10')"
   ]
  },
  {
   "cell_type": "code",
   "execution_count": 20,
   "id": "8f9ddce3",
   "metadata": {
    "execution": {
     "iopub.execute_input": "2022-07-06T06:54:01.991551Z",
     "iopub.status.busy": "2022-07-06T06:54:01.990767Z",
     "iopub.status.idle": "2022-07-06T06:54:02.552622Z",
     "shell.execute_reply": "2022-07-06T06:54:02.551596Z"
    },
    "papermill": {
     "duration": 0.582239,
     "end_time": "2022-07-06T06:54:02.555017",
     "exception": false,
     "start_time": "2022-07-06T06:54:01.972778",
     "status": "completed"
    },
    "tags": []
   },
   "outputs": [
    {
     "data": {
      "image/png": "[encoded data removed]",
      "text/plain": [
       "<Figure size 360x360 with 1 Axes>"
      ]
     },
     "metadata": {
      "needs_background": "light"
     },
     "output_type": "display_data"
    }
   ],
   "source": [
    "plotting(traindf, 'f_11')"
   ]
  },
  {
   "cell_type": "code",
   "execution_count": 21,
   "id": "eca2aa9f",
   "metadata": {
    "execution": {
     "iopub.execute_input": "2022-07-06T06:54:02.591043Z",
     "iopub.status.busy": "2022-07-06T06:54:02.590653Z",
     "iopub.status.idle": "2022-07-06T06:54:03.252608Z",
     "shell.execute_reply": "2022-07-06T06:54:03.251259Z"
    },
    "papermill": {
     "duration": 0.683822,
     "end_time": "2022-07-06T06:54:03.255712",
     "exception": false,
     "start_time": "2022-07-06T06:54:02.571890",
     "status": "completed"
    },
    "tags": []
   },
   "outputs": [
    {
     "data": {
      "image/png": "[encoded data removed]",
      "text/plain": [
       "<Figure size 360x360 with 1 Axes>"
      ]
     },
     "metadata": {
      "needs_background": "light"
     },
     "output_type": "display_data"
    }
   ],
   "source": [
    "plotting(traindf, 'f_12')"
   ]
  },
  {
   "cell_type": "code",
   "execution_count": 22,
   "id": "26e8edfa",
   "metadata": {
    "execution": {
     "iopub.execute_input": "2022-07-06T06:54:03.293121Z",
     "iopub.status.busy": "2022-07-06T06:54:03.292478Z",
     "iopub.status.idle": "2022-07-06T06:54:03.808363Z",
     "shell.execute_reply": "2022-07-06T06:54:03.807400Z"
    },
    "papermill": {
     "duration": 0.537772,
     "end_time": "2022-07-06T06:54:03.811078",
     "exception": false,
     "start_time": "2022-07-06T06:54:03.273306",
     "status": "completed"
    },
    "tags": []
   },
   "outputs": [
    {
     "data": {
      "image/png": "[encoded data removed]",
      "text/plain": [
       "<Figure size 360x360 with 1 Axes>"
      ]
     },
     "metadata": {
      "needs_background": "light"
     },
     "output_type": "display_data"
    }
   ],
   "source": [
    "plotting(traindf, 'f_13')"
   ]
  },
  {
   "cell_type": "code",
   "execution_count": 23,
   "id": "a75fe57c",
   "metadata": {
    "execution": {
     "iopub.execute_input": "2022-07-06T06:54:03.847655Z",
     "iopub.status.busy": "2022-07-06T06:54:03.847233Z",
     "iopub.status.idle": "2022-07-06T06:54:04.451533Z",
     "shell.execute_reply": "2022-07-06T06:54:04.450204Z"
    },
    "papermill": {
     "duration": 0.626101,
     "end_time": "2022-07-06T06:54:04.454285",
     "exception": false,
     "start_time": "2022-07-06T06:54:03.828184",
     "status": "completed"
    },
    "tags": []
   },
   "outputs": [
    {
     "data": {
      "image/png": "[encoded data removed]",
      "text/plain": [
       "<Figure size 360x360 with 1 Axes>"
      ]
     },
     "metadata": {
      "needs_background": "light"
     },
     "output_type": "display_data"
    }
   ],
   "source": [
    "plotting(traindf, 'f_14')"
   ]
  },
  {
   "cell_type": "code",
   "execution_count": 24,
   "id": "cb986d2b",
   "metadata": {
    "execution": {
     "iopub.execute_input": "2022-07-06T06:54:04.492543Z",
     "iopub.status.busy": "2022-07-06T06:54:04.492096Z",
     "iopub.status.idle": "2022-07-06T06:54:05.098749Z",
     "shell.execute_reply": "2022-07-06T06:54:05.097383Z"
    },
    "papermill": {
     "duration": 0.628541,
     "end_time": "2022-07-06T06:54:05.101282",
     "exception": false,
     "start_time": "2022-07-06T06:54:04.472741",
     "status": "completed"
    },
    "tags": []
   },
   "outputs": [
    {
     "data": {
      "image/png": "[encoded data removed]",
      "text/plain": [
       "<Figure size 360x360 with 1 Axes>"
      ]
     },
     "metadata": {
      "needs_background": "light"
     },
     "output_type": "display_data"
    }
   ],
   "source": [
    "plotting(traindf, 'f_15')"
   ]
  },
  {
   "cell_type": "code",
   "execution_count": 25,
   "id": "041441e7",
   "metadata": {
    "execution": {
     "iopub.execute_input": "2022-07-06T06:54:05.138943Z",
     "iopub.status.busy": "2022-07-06T06:54:05.138515Z",
     "iopub.status.idle": "2022-07-06T06:54:05.743852Z",
     "shell.execute_reply": "2022-07-06T06:54:05.742411Z"
    },
    "papermill": {
     "duration": 0.627348,
     "end_time": "2022-07-06T06:54:05.746302",
     "exception": false,
     "start_time": "2022-07-06T06:54:05.118954",
     "status": "completed"
    },
    "tags": []
   },
   "outputs": [
    {
     "data": {
      "image/png": "[encoded data removed]",
      "text/plain": [
       "<Figure size 360x360 with 1 Axes>"
      ]
     },
     "metadata": {
      "needs_background": "light"
     },
     "output_type": "display_data"
    }
   ],
   "source": [
    "plotting(traindf, 'f_16')"
   ]
  },
  {
   "cell_type": "code",
   "execution_count": 26,
   "id": "6b841b5f",
   "metadata": {
    "execution": {
     "iopub.execute_input": "2022-07-06T06:54:05.785498Z",
     "iopub.status.busy": "2022-07-06T06:54:05.785026Z",
     "iopub.status.idle": "2022-07-06T06:54:06.474563Z",
     "shell.execute_reply": "2022-07-06T06:54:06.473640Z"
    },
    "papermill": {
     "duration": 0.71235,
     "end_time": "2022-07-06T06:54:06.476863",
     "exception": false,
     "start_time": "2022-07-06T06:54:05.764513",
     "status": "completed"
    },
    "tags": []
   },
   "outputs": [
    {
     "data": {
      "image/png": "[encoded data removed]",
      "text/plain": [
       "<Figure size 360x360 with 1 Axes>"
      ]
     },
     "metadata": {
      "needs_background": "light"
     },
     "output_type": "display_data"
    }
   ],
   "source": [
    "plotting(traindf, 'f_17')"
   ]
  },
  {
   "cell_type": "code",
   "execution_count": 27,
   "id": "913ed393",
   "metadata": {
    "execution": {
     "iopub.execute_input": "2022-07-06T06:54:06.515579Z",
     "iopub.status.busy": "2022-07-06T06:54:06.514785Z",
     "iopub.status.idle": "2022-07-06T06:54:07.378241Z",
     "shell.execute_reply": "2022-07-06T06:54:07.376817Z"
    },
    "papermill": {
     "duration": 0.886041,
     "end_time": "2022-07-06T06:54:07.380885",
     "exception": false,
     "start_time": "2022-07-06T06:54:06.494844",
     "status": "completed"
    },
    "tags": []
   },
   "outputs": [
    {
     "data": {
      "image/png": "[encoded data removed]",
      "text/plain": [
       "<Figure size 360x360 with 1 Axes>"
      ]
     },
     "metadata": {
      "needs_background": "light"
     },
     "output_type": "display_data"
    }
   ],
   "source": [
    "plotting(traindf, 'f_18')"
   ]
  },
  {
   "cell_type": "code",
   "execution_count": 28,
   "id": "5e2e8693",
   "metadata": {
    "execution": {
     "iopub.execute_input": "2022-07-06T06:54:07.419914Z",
     "iopub.status.busy": "2022-07-06T06:54:07.419280Z",
     "iopub.status.idle": "2022-07-06T06:54:08.129425Z",
     "shell.execute_reply": "2022-07-06T06:54:08.128094Z"
    },
    "papermill": {
     "duration": 0.733122,
     "end_time": "2022-07-06T06:54:08.132306",
     "exception": false,
     "start_time": "2022-07-06T06:54:07.399184",
     "status": "completed"
    },
    "tags": []
   },
   "outputs": [
    {
     "data": {
      "image/png": "[encoded data removed]",
      "text/plain": [
       "<Figure size 360x360 with 1 Axes>"
      ]
     },
     "metadata": {
      "needs_background": "light"
     },
     "output_type": "display_data"
    }
   ],
   "source": [
    "plotting(traindf, 'f_19')"
   ]
  },
  {
   "cell_type": "code",
   "execution_count": 29,
   "id": "dd4d2451",
   "metadata": {
    "execution": {
     "iopub.execute_input": "2022-07-06T06:54:08.173536Z",
     "iopub.status.busy": "2022-07-06T06:54:08.172727Z",
     "iopub.status.idle": "2022-07-06T06:54:08.845178Z",
     "shell.execute_reply": "2022-07-06T06:54:08.844058Z"
    },
    "papermill": {
     "duration": 0.695785,
     "end_time": "2022-07-06T06:54:08.847872",
     "exception": false,
     "start_time": "2022-07-06T06:54:08.152087",
     "status": "completed"
    },
    "tags": []
   },
   "outputs": [
    {
     "data": {
      "image/png": "[encoded data removed]",
      "text/plain": [
       "<Figure size 360x360 with 1 Axes>"
      ]
     },
     "metadata": {
      "needs_background": "light"
     },
     "output_type": "display_data"
    }
   ],
   "source": [
    "plotting(traindf, 'f_20')"
   ]
  },
  {
   "cell_type": "code",
   "execution_count": 30,
   "id": "942bcebf",
   "metadata": {
    "execution": {
     "iopub.execute_input": "2022-07-06T06:54:08.889408Z",
     "iopub.status.busy": "2022-07-06T06:54:08.888068Z",
     "iopub.status.idle": "2022-07-06T06:54:09.549437Z",
     "shell.execute_reply": "2022-07-06T06:54:09.548298Z"
    },
    "papermill": {
     "duration": 0.684689,
     "end_time": "2022-07-06T06:54:09.551949",
     "exception": false,
     "start_time": "2022-07-06T06:54:08.867260",
     "status": "completed"
    },
    "tags": []
   },
   "outputs": [
    {
     "data": {
      "image/png": "[encoded data removed]",
      "text/plain": [
       "<Figure size 360x360 with 1 Axes>"
      ]
     },
     "metadata": {
      "needs_background": "light"
     },
     "output_type": "display_data"
    }
   ],
   "source": [
    "plotting(traindf, 'f_21')"
   ]
  },
  {
   "cell_type": "code",
   "execution_count": 31,
   "id": "8bf4eb9b",
   "metadata": {
    "execution": {
     "iopub.execute_input": "2022-07-06T06:54:09.591860Z",
     "iopub.status.busy": "2022-07-06T06:54:09.591476Z",
     "iopub.status.idle": "2022-07-06T06:54:10.297776Z",
     "shell.execute_reply": "2022-07-06T06:54:10.296556Z"
    },
    "papermill": {
     "duration": 0.729597,
     "end_time": "2022-07-06T06:54:10.300556",
     "exception": false,
     "start_time": "2022-07-06T06:54:09.570959",
     "status": "completed"
    },
    "tags": []
   },
   "outputs": [
    {
     "data": {
      "image/png": "[encoded data removed]",
      "text/plain": [
       "<Figure size 360x360 with 1 Axes>"
      ]
     },
     "metadata": {
      "needs_background": "light"
     },
     "output_type": "display_data"
    }
   ],
   "source": [
    "plotting(traindf, 'f_22')"
   ]
  },
  {
   "cell_type": "code",
   "execution_count": 32,
   "id": "565148dd",
   "metadata": {
    "execution": {
     "iopub.execute_input": "2022-07-06T06:54:10.342472Z",
     "iopub.status.busy": "2022-07-06T06:54:10.341322Z",
     "iopub.status.idle": "2022-07-06T06:54:11.068591Z",
     "shell.execute_reply": "2022-07-06T06:54:11.067048Z"
    },
    "papermill": {
     "duration": 0.751129,
     "end_time": "2022-07-06T06:54:11.071419",
     "exception": false,
     "start_time": "2022-07-06T06:54:10.320290",
     "status": "completed"
    },
    "tags": []
   },
   "outputs": [
    {
     "data": {
      "image/png": "[encoded data removed]",
      "text/plain": [
       "<Figure size 360x360 with 1 Axes>"
      ]
     },
     "metadata": {
      "needs_background": "light"
     },
     "output_type": "display_data"
    }
   ],
   "source": [
    "plotting(traindf, 'f_23')"
   ]
  },
  {
   "cell_type": "code",
   "execution_count": 33,
   "id": "1961a8b7",
   "metadata": {
    "execution": {
     "iopub.execute_input": "2022-07-06T06:54:11.114801Z",
     "iopub.status.busy": "2022-07-06T06:54:11.114392Z",
     "iopub.status.idle": "2022-07-06T06:54:11.906666Z",
     "shell.execute_reply": "2022-07-06T06:54:11.905500Z"
    },
    "papermill": {
     "duration": 0.817433,
     "end_time": "2022-07-06T06:54:11.909105",
     "exception": false,
     "start_time": "2022-07-06T06:54:11.091672",
     "status": "completed"
    },
    "tags": []
   },
   "outputs": [
    {
     "data": {
      "image/png": "[encoded data removed]",
      "text/plain": [
       "<Figure size 360x360 with 1 Axes>"
      ]
     },
     "metadata": {
      "needs_background": "light"
     },
     "output_type": "display_data"
    }
   ],
   "source": [
    "plotting(traindf, 'f_24')"
   ]
  },
  {
   "cell_type": "code",
   "execution_count": 34,
   "id": "01d387bf",
   "metadata": {
    "execution": {
     "iopub.execute_input": "2022-07-06T06:54:11.953921Z",
     "iopub.status.busy": "2022-07-06T06:54:11.952850Z",
     "iopub.status.idle": "2022-07-06T06:54:12.886279Z",
     "shell.execute_reply": "2022-07-06T06:54:12.884832Z"
    },
    "papermill": {
     "duration": 0.958796,
     "end_time": "2022-07-06T06:54:12.888986",
     "exception": false,
     "start_time": "2022-07-06T06:54:11.930190",
     "status": "completed"
    },
    "tags": []
   },
   "outputs": [
    {
     "data": {
      "image/png": "[encoded data removed]",
      "text/plain": [
       "<Figure size 360x360 with 1 Axes>"
      ]
     },
     "metadata": {
      "needs_background": "light"
     },
     "output_type": "display_data"
    }
   ],
   "source": [
    "plotting(traindf, 'f_25')"
   ]
  },
  {
   "cell_type": "code",
   "execution_count": 35,
   "id": "df872640",
   "metadata": {
    "execution": {
     "iopub.execute_input": "2022-07-06T06:54:12.931702Z",
     "iopub.status.busy": "2022-07-06T06:54:12.930699Z",
     "iopub.status.idle": "2022-07-06T06:54:13.715667Z",
     "shell.execute_reply": "2022-07-06T06:54:13.714196Z"
    },
    "papermill": {
     "duration": 0.809443,
     "end_time": "2022-07-06T06:54:13.718247",
     "exception": false,
     "start_time": "2022-07-06T06:54:12.908804",
     "status": "completed"
    },
    "tags": []
   },
   "outputs": [
    {
     "data": {
      "image/png": "[encoded data removed]",
      "text/plain": [
       "<Figure size 360x360 with 1 Axes>"
      ]
     },
     "metadata": {
      "needs_background": "light"
     },
     "output_type": "display_data"
    }
   ],
   "source": [
    "plotting(traindf, 'f_26')"
   ]
  },
  {
   "cell_type": "code",
   "execution_count": 36,
   "id": "aa1b48ce",
   "metadata": {
    "execution": {
     "iopub.execute_input": "2022-07-06T06:54:13.761276Z",
     "iopub.status.busy": "2022-07-06T06:54:13.760625Z",
     "iopub.status.idle": "2022-07-06T06:54:14.595129Z",
     "shell.execute_reply": "2022-07-06T06:54:14.593815Z"
    },
    "papermill": {
     "duration": 0.859008,
     "end_time": "2022-07-06T06:54:14.597834",
     "exception": false,
     "start_time": "2022-07-06T06:54:13.738826",
     "status": "completed"
    },
    "tags": []
   },
   "outputs": [
    {
     "data": {
      "image/png": "[encoded data removed]",
      "text/plain": [
       "<Figure size 360x360 with 1 Axes>"
      ]
     },
     "metadata": {
      "needs_background": "light"
     },
     "output_type": "display_data"
    }
   ],
   "source": [
    "plotting(traindf, 'f_27')"
   ]
  },
  {
   "cell_type": "code",
   "execution_count": 37,
   "id": "e2468322",
   "metadata": {
    "execution": {
     "iopub.execute_input": "2022-07-06T06:54:14.641164Z",
     "iopub.status.busy": "2022-07-06T06:54:14.640785Z",
     "iopub.status.idle": "2022-07-06T06:54:15.351903Z",
     "shell.execute_reply": "2022-07-06T06:54:15.350322Z"
    },
    "papermill": {
     "duration": 0.735806,
     "end_time": "2022-07-06T06:54:15.354531",
     "exception": false,
     "start_time": "2022-07-06T06:54:14.618725",
     "status": "completed"
    },
    "tags": []
   },
   "outputs": [
    {
     "data": {
      "image/png": "[encoded data removed]",
      "text/plain": [
       "<Figure size 360x360 with 1 Axes>"
      ]
     },
     "metadata": {
      "needs_background": "light"
     },
     "output_type": "display_data"
    }
   ],
   "source": [
    "plotting(traindf, 'f_28')"
   ]
  },
  {
   "cell_type": "markdown",
   "id": "197cdfd3",
   "metadata": {
    "papermill": {
     "duration": 0.020753,
     "end_time": "2022-07-06T06:54:15.395907",
     "exception": false,
     "start_time": "2022-07-06T06:54:15.375154",
     "status": "completed"
    },
    "tags": []
   },
   "source": [
    "### Clustering"
   ]
  },
  {
   "cell_type": "code",
   "execution_count": 38,
   "id": "10507715",
   "metadata": {
    "execution": {
     "iopub.execute_input": "2022-07-06T06:54:15.442625Z",
     "iopub.status.busy": "2022-07-06T06:54:15.441750Z",
     "iopub.status.idle": "2022-07-06T06:55:53.576602Z",
     "shell.execute_reply": "2022-07-06T06:55:53.575118Z"
    },
    "papermill": {
     "duration": 98.16149,
     "end_time": "2022-07-06T06:55:53.579458",
     "exception": false,
     "start_time": "2022-07-06T06:54:15.417968",
     "status": "completed"
    },
    "tags": []
   },
   "outputs": [
    {
     "data": {
      "text/plain": [
       "[<matplotlib.lines.Line2D at 0x7fdef893a810>]"
      ]
     },
     "execution_count": 38,
     "metadata": {},
     "output_type": "execute_result"
    },
    {
     "data": {
      "image/png": "[encoded data removed]",
      "text/plain": [
       "<Figure size 432x288 with 1 Axes>"
      ]
     },
     "metadata": {
      "needs_background": "light"
     },
     "output_type": "display_data"
    }
   ],
   "source": [
    "#finding K\n",
    "ssd = []\n",
    "for num_clusters in list(range(1,21)):\n",
    "    model_clus = KMeans(n_clusters = num_clusters, max_iter=500)\n",
    "    model_clus.fit(traindf)\n",
    "    ssd.append(model_clus.inertia_)\n",
    "\n",
    "plt.plot(ssd)"
   ]
  },
  {
   "cell_type": "markdown",
   "id": "442916e3",
   "metadata": {
    "papermill": {
     "duration": 0.020592,
     "end_time": "2022-07-06T06:55:53.621116",
     "exception": false,
     "start_time": "2022-07-06T06:55:53.600524",
     "status": "completed"
    },
    "tags": []
   },
   "source": [
    "_Fitting the model for absolute K_"
   ]
  },
  {
   "cell_type": "code",
   "execution_count": 39,
   "id": "4bd2e2fc",
   "metadata": {
    "execution": {
     "iopub.execute_input": "2022-07-06T06:55:53.666551Z",
     "iopub.status.busy": "2022-07-06T06:55:53.665269Z",
     "iopub.status.idle": "2022-07-06T06:55:56.392287Z",
     "shell.execute_reply": "2022-07-06T06:55:56.391056Z"
    },
    "papermill": {
     "duration": 2.752582,
     "end_time": "2022-07-06T06:55:56.394897",
     "exception": false,
     "start_time": "2022-07-06T06:55:53.642315",
     "status": "completed"
    },
    "tags": []
   },
   "outputs": [
    {
     "data": {
      "text/plain": [
       "KMeans(max_iter=500, n_clusters=5, random_state=42)"
      ]
     },
     "execution_count": 39,
     "metadata": {},
     "output_type": "execute_result"
    }
   ],
   "source": [
    "model = KMeans(n_clusters=5, max_iter=500, random_state=42)\n",
    "model.fit(traindf)"
   ]
  },
  {
   "cell_type": "code",
   "execution_count": 40,
   "id": "5a952ab4",
   "metadata": {
    "execution": {
     "iopub.execute_input": "2022-07-06T06:55:56.439906Z",
     "iopub.status.busy": "2022-07-06T06:55:56.439501Z",
     "iopub.status.idle": "2022-07-06T06:55:56.485389Z",
     "shell.execute_reply": "2022-07-06T06:55:56.484051Z"
    },
    "papermill": {
     "duration": 0.071326,
     "end_time": "2022-07-06T06:55:56.488005",
     "exception": false,
     "start_time": "2022-07-06T06:55:56.416679",
     "status": "completed"
    },
    "tags": []
   },
   "outputs": [
    {
     "data": {
      "text/html": [
       "<div>\n",
       "<style scoped>\n",
       "    .dataframe tbody tr th:only-of-type {\n",
       "        vertical-align: middle;\n",
       "    }\n",
       "\n",
       "    .dataframe tbody tr th {\n",
       "        vertical-align: top;\n",
       "    }\n",
       "\n",
       "    .dataframe thead th {\n",
       "        text-align: right;\n",
       "    }\n",
       "</style>\n",
       "<table border=\"1\" class=\"dataframe\">\n",
       "  <thead>\n",
       "    <tr style=\"text-align: right;\">\n",
       "      <th></th>\n",
       "      <th>id</th>\n",
       "      <th>f_00</th>\n",
       "      <th>f_01</th>\n",
       "      <th>f_02</th>\n",
       "      <th>f_03</th>\n",
       "      <th>f_04</th>\n",
       "      <th>f_05</th>\n",
       "      <th>f_06</th>\n",
       "      <th>f_07</th>\n",
       "      <th>f_08</th>\n",
       "      <th>f_09</th>\n",
       "      <th>f_10</th>\n",
       "      <th>f_11</th>\n",
       "      <th>f_12</th>\n",
       "      <th>f_13</th>\n",
       "      <th>f_14</th>\n",
       "      <th>f_15</th>\n",
       "      <th>f_16</th>\n",
       "      <th>f_17</th>\n",
       "      <th>f_18</th>\n",
       "      <th>f_19</th>\n",
       "      <th>f_20</th>\n",
       "      <th>f_21</th>\n",
       "      <th>f_22</th>\n",
       "      <th>f_23</th>\n",
       "      <th>f_24</th>\n",
       "      <th>f_25</th>\n",
       "      <th>f_26</th>\n",
       "      <th>f_27</th>\n",
       "      <th>f_28</th>\n",
       "      <th>Predicted</th>\n",
       "    </tr>\n",
       "  </thead>\n",
       "  <tbody>\n",
       "    <tr>\n",
       "      <th>0</th>\n",
       "      <td>0</td>\n",
       "      <td>-0.389420</td>\n",
       "      <td>-0.912791</td>\n",
       "      <td>0.648951</td>\n",
       "      <td>0.589045</td>\n",
       "      <td>-0.830817</td>\n",
       "      <td>0.733624</td>\n",
       "      <td>2.258560</td>\n",
       "      <td>2</td>\n",
       "      <td>13</td>\n",
       "      <td>14</td>\n",
       "      <td>5</td>\n",
       "      <td>13</td>\n",
       "      <td>6</td>\n",
       "      <td>6</td>\n",
       "      <td>-0.469819</td>\n",
       "      <td>0.358126</td>\n",
       "      <td>1.068105</td>\n",
       "      <td>-0.559650</td>\n",
       "      <td>-0.366905</td>\n",
       "      <td>-0.478412</td>\n",
       "      <td>-0.757002</td>\n",
       "      <td>-0.763635</td>\n",
       "      <td>-1.090369</td>\n",
       "      <td>1.142641</td>\n",
       "      <td>-0.884274</td>\n",
       "      <td>1.137896</td>\n",
       "      <td>1.309073</td>\n",
       "      <td>1.463002</td>\n",
       "      <td>0.813527</td>\n",
       "      <td>4</td>\n",
       "    </tr>\n",
       "    <tr>\n",
       "      <th>1</th>\n",
       "      <td>1</td>\n",
       "      <td>-0.689249</td>\n",
       "      <td>-0.453954</td>\n",
       "      <td>0.654175</td>\n",
       "      <td>0.995248</td>\n",
       "      <td>-1.653020</td>\n",
       "      <td>0.863810</td>\n",
       "      <td>-0.090651</td>\n",
       "      <td>2</td>\n",
       "      <td>3</td>\n",
       "      <td>6</td>\n",
       "      <td>4</td>\n",
       "      <td>6</td>\n",
       "      <td>16</td>\n",
       "      <td>9</td>\n",
       "      <td>0.591035</td>\n",
       "      <td>-0.396915</td>\n",
       "      <td>0.145834</td>\n",
       "      <td>-0.030798</td>\n",
       "      <td>0.471167</td>\n",
       "      <td>-0.428791</td>\n",
       "      <td>-0.089908</td>\n",
       "      <td>-1.784204</td>\n",
       "      <td>-0.839474</td>\n",
       "      <td>0.459685</td>\n",
       "      <td>1.759412</td>\n",
       "      <td>-0.275422</td>\n",
       "      <td>-0.852168</td>\n",
       "      <td>0.562457</td>\n",
       "      <td>-2.680541</td>\n",
       "      <td>4</td>\n",
       "    </tr>\n",
       "    <tr>\n",
       "      <th>2</th>\n",
       "      <td>2</td>\n",
       "      <td>0.809079</td>\n",
       "      <td>0.324568</td>\n",
       "      <td>-1.170602</td>\n",
       "      <td>-0.624491</td>\n",
       "      <td>0.105448</td>\n",
       "      <td>0.783948</td>\n",
       "      <td>1.988301</td>\n",
       "      <td>5</td>\n",
       "      <td>11</td>\n",
       "      <td>5</td>\n",
       "      <td>8</td>\n",
       "      <td>9</td>\n",
       "      <td>3</td>\n",
       "      <td>11</td>\n",
       "      <td>-0.679875</td>\n",
       "      <td>0.469326</td>\n",
       "      <td>0.349843</td>\n",
       "      <td>-0.288042</td>\n",
       "      <td>0.291470</td>\n",
       "      <td>-0.413534</td>\n",
       "      <td>-1.602377</td>\n",
       "      <td>1.190984</td>\n",
       "      <td>3.267116</td>\n",
       "      <td>-0.088322</td>\n",
       "      <td>-2.168635</td>\n",
       "      <td>-0.974989</td>\n",
       "      <td>1.335763</td>\n",
       "      <td>-1.110655</td>\n",
       "      <td>-3.630723</td>\n",
       "      <td>4</td>\n",
       "    </tr>\n",
       "    <tr>\n",
       "      <th>3</th>\n",
       "      <td>3</td>\n",
       "      <td>-0.500923</td>\n",
       "      <td>0.229049</td>\n",
       "      <td>0.264109</td>\n",
       "      <td>0.231520</td>\n",
       "      <td>0.415012</td>\n",
       "      <td>-1.221269</td>\n",
       "      <td>0.138850</td>\n",
       "      <td>6</td>\n",
       "      <td>2</td>\n",
       "      <td>13</td>\n",
       "      <td>8</td>\n",
       "      <td>9</td>\n",
       "      <td>6</td>\n",
       "      <td>4</td>\n",
       "      <td>-0.389456</td>\n",
       "      <td>0.626762</td>\n",
       "      <td>-1.074543</td>\n",
       "      <td>-1.521753</td>\n",
       "      <td>-1.150806</td>\n",
       "      <td>0.619283</td>\n",
       "      <td>1.287801</td>\n",
       "      <td>0.532837</td>\n",
       "      <td>1.036631</td>\n",
       "      <td>-2.041828</td>\n",
       "      <td>1.440490</td>\n",
       "      <td>-1.900191</td>\n",
       "      <td>-0.630771</td>\n",
       "      <td>-0.050641</td>\n",
       "      <td>0.238333</td>\n",
       "      <td>4</td>\n",
       "    </tr>\n",
       "    <tr>\n",
       "      <th>4</th>\n",
       "      <td>4</td>\n",
       "      <td>-0.671268</td>\n",
       "      <td>-1.039533</td>\n",
       "      <td>-0.270155</td>\n",
       "      <td>-1.830264</td>\n",
       "      <td>-0.290108</td>\n",
       "      <td>-1.852809</td>\n",
       "      <td>0.781898</td>\n",
       "      <td>8</td>\n",
       "      <td>7</td>\n",
       "      <td>5</td>\n",
       "      <td>3</td>\n",
       "      <td>1</td>\n",
       "      <td>13</td>\n",
       "      <td>11</td>\n",
       "      <td>-0.120743</td>\n",
       "      <td>-0.615578</td>\n",
       "      <td>-1.064359</td>\n",
       "      <td>0.444142</td>\n",
       "      <td>0.428327</td>\n",
       "      <td>-1.628830</td>\n",
       "      <td>-0.434948</td>\n",
       "      <td>0.322505</td>\n",
       "      <td>0.284326</td>\n",
       "      <td>-2.438365</td>\n",
       "      <td>1.473930</td>\n",
       "      <td>-1.044684</td>\n",
       "      <td>1.602686</td>\n",
       "      <td>-0.405263</td>\n",
       "      <td>-1.987263</td>\n",
       "      <td>4</td>\n",
       "    </tr>\n",
       "  </tbody>\n",
       "</table>\n",
       "</div>"
      ],
      "text/plain": [
       "   id      f_00      f_01      f_02      f_03      f_04      f_05      f_06  \\\n",
       "0   0 -0.389420 -0.912791  0.648951  0.589045 -0.830817  0.733624  2.258560   \n",
       "1   1 -0.689249 -0.453954  0.654175  0.995248 -1.653020  0.863810 -0.090651   \n",
       "2   2  0.809079  0.324568 -1.170602 -0.624491  0.105448  0.783948  1.988301   \n",
       "3   3 -0.500923  0.229049  0.264109  0.231520  0.415012 -1.221269  0.138850   \n",
       "4   4 -0.671268 -1.039533 -0.270155 -1.830264 -0.290108 -1.852809  0.781898   \n",
       "\n",
       "   f_07  f_08  f_09  f_10  f_11  f_12  f_13      f_14      f_15      f_16  \\\n",
       "0     2    13    14     5    13     6     6 -0.469819  0.358126  1.068105   \n",
       "1     2     3     6     4     6    16     9  0.591035 -0.396915  0.145834   \n",
       "2     5    11     5     8     9     3    11 -0.679875  0.469326  0.349843   \n",
       "3     6     2    13     8     9     6     4 -0.389456  0.626762 -1.074543   \n",
       "4     8     7     5     3     1    13    11 -0.120743 -0.615578 -1.064359   \n",
       "\n",
       "       f_17      f_18      f_19      f_20      f_21      f_22      f_23  \\\n",
       "0 -0.559650 -0.366905 -0.478412 -0.757002 -0.763635 -1.090369  1.142641   \n",
       "1 -0.030798  0.471167 -0.428791 -0.089908 -1.784204 -0.839474  0.459685   \n",
       "2 -0.288042  0.291470 -0.413534 -1.602377  1.190984  3.267116 -0.088322   \n",
       "3 -1.521753 -1.150806  0.619283  1.287801  0.532837  1.036631 -2.041828   \n",
       "4  0.444142  0.428327 -1.628830 -0.434948  0.322505  0.284326 -2.438365   \n",
       "\n",
       "       f_24      f_25      f_26      f_27      f_28  Predicted  \n",
       "0 -0.884274  1.137896  1.309073  1.463002  0.813527          4  \n",
       "1  1.759412 -0.275422 -0.852168  0.562457 -2.680541          4  \n",
       "2 -2.168635 -0.974989  1.335763 -1.110655 -3.630723          4  \n",
       "3  1.440490 -1.900191 -0.630771 -0.050641  0.238333          4  \n",
       "4  1.473930 -1.044684  1.602686 -0.405263 -1.987263          4  "
      ]
     },
     "execution_count": 40,
     "metadata": {},
     "output_type": "execute_result"
    }
   ],
   "source": [
    "df = pd.concat([traindf, pd.Series(model.labels_)], axis=1)\n",
    "df.rename({0:'Predicted'}, axis=1, inplace=True)\n",
    "df.head()"
   ]
  },
  {
   "cell_type": "code",
   "execution_count": 41,
   "id": "2bf1e012",
   "metadata": {
    "execution": {
     "iopub.execute_input": "2022-07-06T06:55:56.533455Z",
     "iopub.status.busy": "2022-07-06T06:55:56.532712Z",
     "iopub.status.idle": "2022-07-06T06:55:56.749580Z",
     "shell.execute_reply": "2022-07-06T06:55:56.748194Z"
    },
    "papermill": {
     "duration": 0.242649,
     "end_time": "2022-07-06T06:55:56.752238",
     "exception": false,
     "start_time": "2022-07-06T06:55:56.509589",
     "status": "completed"
    },
    "tags": []
   },
   "outputs": [
    {
     "data": {
      "image/png": "[encoded data removed]",
      "text/plain": [
       "<Figure size 432x288 with 1 Axes>"
      ]
     },
     "metadata": {
      "needs_background": "light"
     },
     "output_type": "display_data"
    }
   ],
   "source": [
    "sns.countplot(x='Predicted', data=df)\n",
    "plt.show()"
   ]
  },
  {
   "cell_type": "code",
   "execution_count": 42,
   "id": "1a3edffc",
   "metadata": {
    "execution": {
     "iopub.execute_input": "2022-07-06T06:55:56.798182Z",
     "iopub.status.busy": "2022-07-06T06:55:56.797773Z",
     "iopub.status.idle": "2022-07-06T06:55:56.966447Z",
     "shell.execute_reply": "2022-07-06T06:55:56.965344Z"
    },
    "papermill": {
     "duration": 0.194997,
     "end_time": "2022-07-06T06:55:56.969323",
     "exception": false,
     "start_time": "2022-07-06T06:55:56.774326",
     "status": "completed"
    },
    "tags": []
   },
   "outputs": [],
   "source": [
    "final_col = ['id', 'Predicted']\n",
    "drop_cols = [i for i in df.columns if i not in final_col]\n",
    "\n",
    "submissiondf = df.drop(drop_cols, axis=1)\n",
    "\n",
    "#saving the file\n",
    "submissiondf.to_csv('submission.csv', index=False)"
   ]
  },
  {
   "cell_type": "code",
   "execution_count": 43,
   "id": "cf3e682b",
   "metadata": {
    "execution": {
     "iopub.execute_input": "2022-07-06T06:55:57.015671Z",
     "iopub.status.busy": "2022-07-06T06:55:57.015256Z",
     "iopub.status.idle": "2022-07-06T06:55:57.027845Z",
     "shell.execute_reply": "2022-07-06T06:55:57.026563Z"
    },
    "papermill": {
     "duration": 0.03915,
     "end_time": "2022-07-06T06:55:57.030447",
     "exception": false,
     "start_time": "2022-07-06T06:55:56.991297",
     "status": "completed"
    },
    "tags": []
   },
   "outputs": [
    {
     "data": {
      "text/html": [
       "<div>\n",
       "<style scoped>\n",
       "    .dataframe tbody tr th:only-of-type {\n",
       "        vertical-align: middle;\n",
       "    }\n",
       "\n",
       "    .dataframe tbody tr th {\n",
       "        vertical-align: top;\n",
       "    }\n",
       "\n",
       "    .dataframe thead th {\n",
       "        text-align: right;\n",
       "    }\n",
       "</style>\n",
       "<table border=\"1\" class=\"dataframe\">\n",
       "  <thead>\n",
       "    <tr style=\"text-align: right;\">\n",
       "      <th></th>\n",
       "      <th>id</th>\n",
       "      <th>Predicted</th>\n",
       "    </tr>\n",
       "  </thead>\n",
       "  <tbody>\n",
       "    <tr>\n",
       "      <th>0</th>\n",
       "      <td>0</td>\n",
       "      <td>4</td>\n",
       "    </tr>\n",
       "    <tr>\n",
       "      <th>1</th>\n",
       "      <td>1</td>\n",
       "      <td>4</td>\n",
       "    </tr>\n",
       "    <tr>\n",
       "      <th>2</th>\n",
       "      <td>2</td>\n",
       "      <td>4</td>\n",
       "    </tr>\n",
       "    <tr>\n",
       "      <th>3</th>\n",
       "      <td>3</td>\n",
       "      <td>4</td>\n",
       "    </tr>\n",
       "    <tr>\n",
       "      <th>4</th>\n",
       "      <td>4</td>\n",
       "      <td>4</td>\n",
       "    </tr>\n",
       "  </tbody>\n",
       "</table>\n",
       "</div>"
      ],
      "text/plain": [
       "   id  Predicted\n",
       "0   0          4\n",
       "1   1          4\n",
       "2   2          4\n",
       "3   3          4\n",
       "4   4          4"
      ]
     },
     "execution_count": 43,
     "metadata": {},
     "output_type": "execute_result"
    }
   ],
   "source": [
    "submissiondf.head()"
   ]
  },
  {
   "cell_type": "code",
   "execution_count": null,
   "id": "b0eb7f70",
   "metadata": {
    "papermill": {
     "duration": 0.021806,
     "end_time": "2022-07-06T06:55:57.074425",
     "exception": false,
     "start_time": "2022-07-06T06:55:57.052619",
     "status": "completed"
    },
    "tags": []
   },
   "outputs": [],
   "source": []
  }
 ],
 "metadata": {
  "kernelspec": {
   "display_name": "Python 3",
   "language": "python",
   "name": "python3"
  },
  "language_info": {
   "codemirror_mode": {
    "name": "ipython",
    "version": 3
   },
   "file_extension": ".py",
   "mimetype": "text/x-python",
   "name": "python",
   "nbconvert_exporter": "python",
   "pygments_lexer": "ipython3",
   "version": "3.7.12"
  },
  "papermill": {
   "default_parameters": {},
   "duration": 138.541225,
   "end_time": "2022-07-06T06:55:58.020705",
   "environment_variables": {},
   "exception": null,
   "input_path": "__notebook__.ipynb",
   "output_path": "__notebook__.ipynb",
   "parameters": {},
   "start_time": "2022-07-06T06:53:39.479480",
   "version": "2.3.4"
  }
 },
 "nbformat": 4,
 "nbformat_minor": 5
}
